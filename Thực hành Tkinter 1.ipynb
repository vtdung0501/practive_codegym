{
 "cells": [
  {
   "cell_type": "markdown",
   "id": "b30dd4bb",
   "metadata": {},
   "source": [
    "### Bài 1:\n",
    "Tạo một cửa sổ sẽ\n",
    "yêu cầu người dùng nhập\n",
    "tên. Khi họ nhấp vào\n",
    "một nút nó sẽ hiển thị\n",
    " message “Hello” và\n",
    "tên của họ và thay đổi\n",
    "màu nền\n",
    "và màu chữ của\n",
    "messger box."
   ]
  },
  {
   "cell_type": "code",
   "execution_count": 15,
   "id": "6c5173b5",
   "metadata": {},
   "outputs": [],
   "source": [
    "import tkinter as tk\n",
    "def display_message():\n",
    "    name = entry.get()\n",
    "    message = f\"Hello {name}!\"\n",
    "    messagebox.config(text=message, fg=\"red\", bg=\"yellow\")\n",
    "\n",
    "root = tk.Tk()\n",
    "root.geometry(\"300x150\")\n",
    "\n",
    "label = tk.Label(root, text=\"Nhập tên:\")\n",
    "label.place(x=30, y=20)\n",
    "\n",
    "entry = tk.Entry(root)\n",
    "entry.place(x=75, y=20, width = 100, height=25)\n",
    "\n",
    "button = tk.Button(root, text=\"Submit\", command = display_message)\n",
    "button.place(x=30, y=50, width= 50, height=25)\n",
    "\n",
    "messagebox = tk.Label(root, text=\"\")\n",
    "messagebox.place(x=75, y=50, width=100, height=25)\n",
    "\n",
    "root.mainloop()"
   ]
  },
  {
   "cell_type": "markdown",
   "id": "1b8dc250",
   "metadata": {},
   "source": [
    "### Bài 2\n",
    "Viết chương trình mà\n",
    "có thể được sử dụng thay thế\n",
    "của lăn một sáu mặt\n",
    "chết trong một ván cờ.\n",
    "Khi người dùng nhấp vào\n",
    "một button nó nên\n",
    "hiển thị ngẫu nhiên\n",
    "số nguyên\n",
    "từ 1 đến 6\n",
    "(bao gồm)."
   ]
  },
  {
   "cell_type": "code",
   "execution_count": null,
   "id": "a70bece6",
   "metadata": {},
   "outputs": [],
   "source": []
  },
  {
   "cell_type": "markdown",
   "id": "535417a9",
   "metadata": {},
   "source": [
    "### Bài 3\n",
    "Tạo một chương trình sẽ hỏi\n",
    "người dùng nhập một số trong một box.\n",
    " Khi họ bấm vào một button nó sẽ thêm số đó\n",
    "thành tổng số và hiển thị nó trong một\n",
    "button khác. Điều này có thể là\n",
    "lặp đi lặp lại nhiều lần như\n",
    "họ muốn và tiếp tục thêm vào\n",
    "Tổng số. Nên có một button\n",
    "khác thiết lập lại\n",
    "tổng trở về 0 và làm trống\n",
    "bản gốc text box , sẵn sàng cho\n",
    "họ để bắt đầu lại."
   ]
  },
  {
   "cell_type": "code",
   "execution_count": null,
   "id": "6ed1e944",
   "metadata": {},
   "outputs": [],
   "source": [
    "import tkinter as tk\n",
    "\n",
    "class Summation:\n",
    "    def __init__(self):\n",
    "        self.total = 0\n",
    "        \n",
    "        # Tạo cửa sổ giao diện\n",
    "        self.window = tk.Tk()\n",
    "        self.window.title(\"Chương trình tính tổng\")\n",
    "        self.window.geometry(\"400x200\")\n",
    "\n",
    "        # Tạo box nhập liệu\n",
    "        self.entry = tk.Entry(self.window, width=10, font=('Arial', 14))\n",
    "        self.entry.pack(pady=10)\n",
    "\n",
    "        # Tạo button tính tổng\n",
    "        self.add_button = tk.Button(self.window, text=\"Tính tổng\", font=('Arial', 14), command=self.add_number)\n",
    "        self.add_button.pack()\n",
    "\n",
    "        # Tạo button hiển thị tổng\n",
    "        self.total_label = tk.Label(self.window, text=f\"Tổng: {self.total}\", font=('Arial', 14))\n",
    "        self.total_label.pack(pady=10)\n",
    "\n",
    "        # Tạo button reset\n",
    "        self.reset_button = tk.Button(self.window, text=\"Reset\", font=('Arial', 14), command=self.reset)\n",
    "        self.reset_button.pack()\n",
    "\n",
    "        self.window.mainloop()\n",
    "\n",
    "    # Hàm tính tổng\n",
    "    def add_number(self):\n",
    "        try:\n",
    "            number = int(self.entry.get())\n",
    "            self.total += number\n",
    "            self.total_label.config(text=f\"Tổng: {self.total}\")\n",
    "            self.entry.delete(0, tk.END)\n",
    "        except ValueError:\n",
    "            self.entry.delete(0, tk.END)\n",
    "            self.total_label.config(text=\"Lỗi: Vui lòng nhập số\")\n",
    "\n",
    "    # Hàm reset\n",
    "    def reset(self):\n",
    "        self.total = 0\n",
    "        self.total_label.config(text=f\"Tổng: {self.total}\")\n",
    "        self.entry.delete(0, tk.END)\n",
    "\n",
    "# Chạy chương trình\n",
    "app = Summation()"
   ]
  },
  {
   "cell_type": "markdown",
   "id": "7b1cfced",
   "metadata": {},
   "source": [
    "### Bài 4\n",
    "Tạo một cửa sổ sẽ yêu cầu người dùng nhập một\n",
    "tên trong một text box . Khi họ bấm vào một button nó\n",
    "sẽ thêm nó vào cuối danh sách được hiển thị trên\n",
    "màn hình. Tạo một button khác sẽ xóa\n",
    "danh sách."
   ]
  },
  {
   "cell_type": "code",
   "execution_count": 21,
   "id": "c6ce4d57",
   "metadata": {},
   "outputs": [],
   "source": [
    "from tkinter import*\n",
    "screen = Tk()\n",
    "this_list = []\n",
    "def add():\n",
    "    this_list.append(entry.get())\n",
    "    lb2.configure(text = this_list)\n",
    "def delete():\n",
    "    this_list.clear()\n",
    "    lb2.configure(text = this_list)\n",
    "entry = Entry(screen)\n",
    "entry.grid(column =0,row =1)\n",
    "lb1 = Label(screen, text = 'Nhập số:')\n",
    "lb1.grid(column =0 ,row = 0)\n",
    "btn1 = Button(screen, text = 'Add', command = add)\n",
    "btn1.grid(column = 0, row =2)\n",
    "lb2 = Label(screen)\n",
    "lb2.grid(column = 0, row =3)\n",
    "btn2 = Button(screen, text = 'Del', command = delete)\n",
    "btn2.grid(column = 0, row =4)\n",
    "screen.mainloop()"
   ]
  },
  {
   "cell_type": "markdown",
   "id": "71403103",
   "metadata": {},
   "source": [
    "### Bài 5\n",
    "1 km = 0,6214 dặm và 1\n",
    "dặm = 1,6093 km. sử dụng\n",
    "những con số này, làm cho một chương trình\n",
    "điều đó sẽ cho phép người dùng\n",
    "chuyển đổi giữa dặm và\n",
    "km."
   ]
  },
  {
   "cell_type": "code",
   "execution_count": 22,
   "id": "3841cfca",
   "metadata": {},
   "outputs": [],
   "source": [
    "from tkinter import*\n",
    "screen = Tk()\n",
    "\n",
    "def convert_km_mile():\n",
    "    mile = float(entry1.get())*0.6214\n",
    "    lb2.configure(text = str(mile)+ ' Mile')\n",
    "def convert_mile_km():\n",
    "    km = float(entry2.get())*1.6093\n",
    "    lb4.configure(text = str(km) + ' Km')\n",
    "lb1 = Label(screen, text = 'Enter Km:')\n",
    "lb1.grid(column =0, row =0)\n",
    "entry1 = Entry(screen)\n",
    "entry1.grid(column =1, row =0)\n",
    "\n",
    "btn1 = Button(screen, text = 'Convert Km to Mile',command = convert_km_mile)\n",
    "btn1.grid(column =1,row =1)\n",
    "lb2 = Label(screen)\n",
    "lb2.grid(column =1,row =2)\n",
    "\n",
    "lb3 = Label(screen, text = 'Enter Mile:')\n",
    "lb3.grid(column =0, row =3)\n",
    "entry2 = Entry(screen)\n",
    "entry2.grid(column =1, row =3)\n",
    "\n",
    "btn2 = Button(screen, text = 'Convert Mile to Km',command = convert_mile_km)\n",
    "btn2.grid(column =1,row =4)\n",
    "lb4 = Label(screen)\n",
    "lb4.grid(column =1,row =5)\n",
    "screen.mainloop()"
   ]
  },
  {
   "cell_type": "markdown",
   "id": "a9140f24",
   "metadata": {},
   "source": [
    "## "
   ]
  },
  {
   "cell_type": "code",
   "execution_count": null,
   "id": "05bd188a",
   "metadata": {},
   "outputs": [],
   "source": []
  },
  {
   "cell_type": "code",
   "execution_count": null,
   "id": "a984f646",
   "metadata": {},
   "outputs": [],
   "source": []
  }
 ],
 "metadata": {
  "kernelspec": {
   "display_name": "Python 3",
   "language": "python",
   "name": "python3"
  },
  "language_info": {
   "codemirror_mode": {
    "name": "ipython",
    "version": 3
   },
   "file_extension": ".py",
   "mimetype": "text/x-python",
   "name": "python",
   "nbconvert_exporter": "python",
   "pygments_lexer": "ipython3",
   "version": "3.11.0"
  },
  "vscode": {
   "interpreter": {
    "hash": "c261aea317cc0286b3b3261fbba9abdec21eaa57589985bb7a274bf54d6cc0a7"
   }
  }
 },
 "nbformat": 4,
 "nbformat_minor": 5
}
