{
 "cells": [
  {
   "cell_type": "markdown",
   "id": "a88cd2cb",
   "metadata": {},
   "source": [
    "# Thực Hành Vòng lặp for"
   ]
  },
  {
   "cell_type": "code",
   "execution_count": 14,
   "id": "82e350c5",
   "metadata": {},
   "outputs": [
    {
     "name": "stdout",
     "output_type": "stream",
     "text": [
      "1 \n",
      "1 2 \n",
      "1 2 3 \n",
      "1 2 3 4 \n",
      "1 2 3 4 5 \n"
     ]
    }
   ],
   "source": [
    "\"\"\"Bài 1 : Viết chương trình in ra tam giác số như sau:\n",
    "1 \n",
    "1 2 \n",
    "1 2 3 \n",
    "1 2 3 4 \n",
    "1 2 3 4 5 \n",
    "\"\"\"\n",
    "s=0\n",
    "for i in range(1,6):\n",
    "    for j in range(1,i+1):\n",
    "        print(j,end=\" \")\n",
    "    print(\"\")"
   ]
  },
  {
   "cell_type": "code",
   "execution_count": 1,
   "id": "e267208b",
   "metadata": {},
   "outputs": [
    {
     "name": "stdout",
     "output_type": "stream",
     "text": [
      "1 \n",
      "2 2 \n",
      "3 3 3 \n",
      "4 4 4 4 \n",
      "5 5 5 5 5 \n"
     ]
    }
   ],
   "source": [
    "\"\"\"Bài 2  : Viết chương trình in ra tam giác số như sau:\n",
    "1 \n",
    "2 2 \n",
    "3 3 3 \n",
    "4 4 4 4 \n",
    "5 5 5 5 5 \n",
    "\"\"\"\n",
    "\n",
    "for i in range (1,6):\n",
    "    for j in range(1,i+1):\n",
    "        print(i,end = \" \")\n",
    "    print()"
   ]
  },
  {
   "cell_type": "code",
   "execution_count": 25,
   "id": "ca292cc5",
   "metadata": {},
   "outputs": [
    {
     "name": "stdout",
     "output_type": "stream",
     "text": [
      "6 5 4 3 2 1 \n",
      "5 4 3 2 1 \n",
      "4 3 2 1 \n",
      "3 2 1 \n",
      "2 1 \n",
      "1 \n"
     ]
    }
   ],
   "source": [
    "'''Bài 3 Viết chương trình in ra tam giác số như sau:\n",
    "6 5 4 3 2 1 \n",
    "5 4 3 2 1 \n",
    "4 3 2 1 \n",
    "3 2 1 \n",
    "2 1 \n",
    "1 \n",
    "'''\n",
    "for i in range(6,0,-1):\n",
    "    for j in range(i,0,-1):\n",
    "        print(j,end =' ')\n",
    "    print()"
   ]
  },
  {
   "cell_type": "code",
   "execution_count": 61,
   "id": "377785f9",
   "metadata": {},
   "outputs": [
    {
     "name": "stdout",
     "output_type": "stream",
     "text": [
      "Nhập n = 5\n",
      "120\n"
     ]
    }
   ],
   "source": [
    "\"\"\"Bài 4: Viết chương trình nhập vào số nguyên dương n, tính giai thừa của n\n",
    "Note: Giai thừa của n được tính bằng công thức : n! = n*(n-1)*(n-2)*....*1\n",
    "vd: 5! = 5 * 4 * 3 * 2 * 1 = 120\n",
    "\"\"\"\n",
    "n = int(input(\"Nhập n = \"))\n",
    "giai_thua = 1\n",
    "if n==0 or n==1:\n",
    "    print(giai_thua)\n",
    "else:\n",
    "    for i in range(n,0,-1):\n",
    "        giai_thua *=i\n",
    "    print(giai_thua)"
   ]
  },
  {
   "cell_type": "code",
   "execution_count": 45,
   "id": "6f1eff72",
   "metadata": {},
   "outputs": [
    {
     "name": "stdout",
     "output_type": "stream",
     "text": [
      "Nhập n = 12345\n",
      "54321"
     ]
    }
   ],
   "source": [
    "\"\"\"Bài 5 : Viết chương trình nhập vào một số nguyên dương n và in ra số đảo ngược của n\n",
    "vd: \n",
    "input: 1234567\n",
    "output: 7654321\n",
    "\"\"\"\n",
    "n = input(\"Nhập n = \")\n",
    " \n",
    "# In ra số đảo ngược\n",
    "s = int(n)\n",
    "for i in range(0,len(n)):\n",
    "    print(s % 10, end=\"\")\n",
    "    s //= 10  # Chia lấy phần nguyên\n",
    "\n",
    "\n"
   ]
  },
  {
   "cell_type": "markdown",
   "id": "03a5308a",
   "metadata": {},
   "source": [
    "## '''Bài 6: Nhập một chuỗi có 2 số nguyên , mỗi số cách nhau một đấu phẩy hãy tính tổng 2 số đó\n",
    "vd: \n",
    "Nhập: 4,5 In: 9\n"
   ]
  },
  {
   "cell_type": "code",
   "execution_count": 8,
   "id": "3cbf833e",
   "metadata": {},
   "outputs": [
    {
     "name": "stdout",
     "output_type": "stream",
     "text": [
      "Tổng 2 số là 9\n"
     ]
    }
   ],
   "source": [
    "n = input(\"hãy nhập một chuỗi số cách nhau bởi dấu phẩy vd: 3,4\")\n",
    "s = 0\n",
    "for i in n.split(\",\"):\n",
    "    s+=int(i)\n",
    "print(f'Tổng 2 số là {s}')\n"
   ]
  },
  {
   "cell_type": "code",
   "execution_count": 10,
   "id": "27937d79",
   "metadata": {},
   "outputs": [
    {
     "name": "stdout",
     "output_type": "stream",
     "text": [
      "Trong chuỗi số có 5 chữ số chẵn\n"
     ]
    }
   ],
   "source": [
    "\"\"\"Bài 7 : Nhập vào một chuỗi số , hãy cho biết trong chuỗi đó có bao nhiêu chữ số chẵn\n",
    "\"\"\"\n",
    "n = input(\"Nhập vào chuỗi số: \")\n",
    "s=0\n",
    "for i in n:\n",
    "    if int(i)%2:\n",
    "        s+=1\n",
    "print(f\"Trong chuỗi số có {s} chữ số chẵn\")\n",
    "        "
   ]
  },
  {
   "cell_type": "code",
   "execution_count": 52,
   "id": "dcbaab06",
   "metadata": {},
   "outputs": [
    {
     "name": "stdout",
     "output_type": "stream",
     "text": [
      "Cần có 0 tiền 10k và 0 tiền 20k và 10 tiền 50k\n",
      "Cần có 0 tiền 10k và 5 tiền 20k và 8 tiền 50k\n",
      "Cần có 0 tiền 10k và 10 tiền 20k và 6 tiền 50k\n",
      "Cần có 0 tiền 10k và 15 tiền 20k và 4 tiền 50k\n",
      "Cần có 0 tiền 10k và 20 tiền 20k và 2 tiền 50k\n",
      "Cần có 0 tiền 10k và 25 tiền 20k và 0 tiền 50k\n",
      "Cần có 1 tiền 10k và 2 tiền 20k và 9 tiền 50k\n",
      "Cần có 1 tiền 10k và 7 tiền 20k và 7 tiền 50k\n",
      "Cần có 1 tiền 10k và 12 tiền 20k và 5 tiền 50k\n",
      "Cần có 1 tiền 10k và 17 tiền 20k và 3 tiền 50k\n",
      "Cần có 1 tiền 10k và 22 tiền 20k và 1 tiền 50k\n",
      "Cần có 2 tiền 10k và 4 tiền 20k và 8 tiền 50k\n",
      "Cần có 2 tiền 10k và 9 tiền 20k và 6 tiền 50k\n",
      "Cần có 2 tiền 10k và 14 tiền 20k và 4 tiền 50k\n",
      "Cần có 2 tiền 10k và 19 tiền 20k và 2 tiền 50k\n",
      "Cần có 2 tiền 10k và 24 tiền 20k và 0 tiền 50k\n",
      "Cần có 3 tiền 10k và 1 tiền 20k và 9 tiền 50k\n",
      "Cần có 3 tiền 10k và 6 tiền 20k và 7 tiền 50k\n",
      "Cần có 3 tiền 10k và 11 tiền 20k và 5 tiền 50k\n",
      "Cần có 3 tiền 10k và 16 tiền 20k và 3 tiền 50k\n",
      "Cần có 3 tiền 10k và 21 tiền 20k và 1 tiền 50k\n",
      "Cần có 4 tiền 10k và 3 tiền 20k và 8 tiền 50k\n",
      "Cần có 4 tiền 10k và 8 tiền 20k và 6 tiền 50k\n",
      "Cần có 4 tiền 10k và 13 tiền 20k và 4 tiền 50k\n",
      "Cần có 4 tiền 10k và 18 tiền 20k và 2 tiền 50k\n",
      "Cần có 4 tiền 10k và 23 tiền 20k và 0 tiền 50k\n",
      "Cần có 5 tiền 10k và 0 tiền 20k và 9 tiền 50k\n",
      "Cần có 5 tiền 10k và 5 tiền 20k và 7 tiền 50k\n",
      "Cần có 5 tiền 10k và 10 tiền 20k và 5 tiền 50k\n",
      "Cần có 5 tiền 10k và 15 tiền 20k và 3 tiền 50k\n",
      "Cần có 5 tiền 10k và 20 tiền 20k và 1 tiền 50k\n",
      "Cần có 6 tiền 10k và 2 tiền 20k và 8 tiền 50k\n",
      "Cần có 6 tiền 10k và 7 tiền 20k và 6 tiền 50k\n",
      "Cần có 6 tiền 10k và 12 tiền 20k và 4 tiền 50k\n",
      "Cần có 6 tiền 10k và 17 tiền 20k và 2 tiền 50k\n",
      "Cần có 6 tiền 10k và 22 tiền 20k và 0 tiền 50k\n",
      "Cần có 7 tiền 10k và 4 tiền 20k và 7 tiền 50k\n",
      "Cần có 7 tiền 10k và 9 tiền 20k và 5 tiền 50k\n",
      "Cần có 7 tiền 10k và 14 tiền 20k và 3 tiền 50k\n",
      "Cần có 7 tiền 10k và 19 tiền 20k và 1 tiền 50k\n",
      "Cần có 8 tiền 10k và 1 tiền 20k và 8 tiền 50k\n",
      "Cần có 8 tiền 10k và 6 tiền 20k và 6 tiền 50k\n",
      "Cần có 8 tiền 10k và 11 tiền 20k và 4 tiền 50k\n",
      "Cần có 8 tiền 10k và 16 tiền 20k và 2 tiền 50k\n",
      "Cần có 8 tiền 10k và 21 tiền 20k và 0 tiền 50k\n",
      "Cần có 9 tiền 10k và 3 tiền 20k và 7 tiền 50k\n",
      "Cần có 9 tiền 10k và 8 tiền 20k và 5 tiền 50k\n",
      "Cần có 9 tiền 10k và 13 tiền 20k và 3 tiền 50k\n",
      "Cần có 9 tiền 10k và 18 tiền 20k và 1 tiền 50k\n",
      "Cần có 10 tiền 10k và 0 tiền 20k và 8 tiền 50k\n",
      "Cần có 10 tiền 10k và 5 tiền 20k và 6 tiền 50k\n",
      "Cần có 10 tiền 10k và 10 tiền 20k và 4 tiền 50k\n",
      "Cần có 10 tiền 10k và 15 tiền 20k và 2 tiền 50k\n",
      "Cần có 10 tiền 10k và 20 tiền 20k và 0 tiền 50k\n",
      "Cần có 11 tiền 10k và 2 tiền 20k và 7 tiền 50k\n",
      "Cần có 11 tiền 10k và 7 tiền 20k và 5 tiền 50k\n",
      "Cần có 11 tiền 10k và 12 tiền 20k và 3 tiền 50k\n",
      "Cần có 11 tiền 10k và 17 tiền 20k và 1 tiền 50k\n",
      "Cần có 12 tiền 10k và 4 tiền 20k và 6 tiền 50k\n",
      "Cần có 12 tiền 10k và 9 tiền 20k và 4 tiền 50k\n",
      "Cần có 12 tiền 10k và 14 tiền 20k và 2 tiền 50k\n",
      "Cần có 12 tiền 10k và 19 tiền 20k và 0 tiền 50k\n",
      "Cần có 13 tiền 10k và 1 tiền 20k và 7 tiền 50k\n",
      "Cần có 13 tiền 10k và 6 tiền 20k và 5 tiền 50k\n",
      "Cần có 13 tiền 10k và 11 tiền 20k và 3 tiền 50k\n",
      "Cần có 13 tiền 10k và 16 tiền 20k và 1 tiền 50k\n",
      "Cần có 14 tiền 10k và 3 tiền 20k và 6 tiền 50k\n",
      "Cần có 14 tiền 10k và 8 tiền 20k và 4 tiền 50k\n",
      "Cần có 14 tiền 10k và 13 tiền 20k và 2 tiền 50k\n",
      "Cần có 14 tiền 10k và 18 tiền 20k và 0 tiền 50k\n",
      "Cần có 15 tiền 10k và 0 tiền 20k và 7 tiền 50k\n",
      "Cần có 15 tiền 10k và 5 tiền 20k và 5 tiền 50k\n",
      "Cần có 15 tiền 10k và 10 tiền 20k và 3 tiền 50k\n",
      "Cần có 15 tiền 10k và 15 tiền 20k và 1 tiền 50k\n",
      "Cần có 16 tiền 10k và 2 tiền 20k và 6 tiền 50k\n",
      "Cần có 16 tiền 10k và 7 tiền 20k và 4 tiền 50k\n",
      "Cần có 16 tiền 10k và 12 tiền 20k và 2 tiền 50k\n",
      "Cần có 16 tiền 10k và 17 tiền 20k và 0 tiền 50k\n",
      "Cần có 17 tiền 10k và 4 tiền 20k và 5 tiền 50k\n",
      "Cần có 17 tiền 10k và 9 tiền 20k và 3 tiền 50k\n",
      "Cần có 17 tiền 10k và 14 tiền 20k và 1 tiền 50k\n",
      "Cần có 18 tiền 10k và 1 tiền 20k và 6 tiền 50k\n",
      "Cần có 18 tiền 10k và 6 tiền 20k và 4 tiền 50k\n",
      "Cần có 18 tiền 10k và 11 tiền 20k và 2 tiền 50k\n",
      "Cần có 18 tiền 10k và 16 tiền 20k và 0 tiền 50k\n",
      "Cần có 19 tiền 10k và 3 tiền 20k và 5 tiền 50k\n",
      "Cần có 19 tiền 10k và 8 tiền 20k và 3 tiền 50k\n",
      "Cần có 19 tiền 10k và 13 tiền 20k và 1 tiền 50k\n",
      "Cần có 20 tiền 10k và 0 tiền 20k và 6 tiền 50k\n",
      "Cần có 20 tiền 10k và 5 tiền 20k và 4 tiền 50k\n",
      "Cần có 20 tiền 10k và 10 tiền 20k và 2 tiền 50k\n",
      "Cần có 20 tiền 10k và 15 tiền 20k và 0 tiền 50k\n",
      "Cần có 21 tiền 10k và 2 tiền 20k và 5 tiền 50k\n",
      "Cần có 21 tiền 10k và 7 tiền 20k và 3 tiền 50k\n",
      "Cần có 21 tiền 10k và 12 tiền 20k và 1 tiền 50k\n",
      "Cần có 22 tiền 10k và 4 tiền 20k và 4 tiền 50k\n",
      "Cần có 22 tiền 10k và 9 tiền 20k và 2 tiền 50k\n",
      "Cần có 22 tiền 10k và 14 tiền 20k và 0 tiền 50k\n",
      "Cần có 23 tiền 10k và 1 tiền 20k và 5 tiền 50k\n",
      "Cần có 23 tiền 10k và 6 tiền 20k và 3 tiền 50k\n",
      "Cần có 23 tiền 10k và 11 tiền 20k và 1 tiền 50k\n",
      "Cần có 24 tiền 10k và 3 tiền 20k và 4 tiền 50k\n",
      "Cần có 24 tiền 10k và 8 tiền 20k và 2 tiền 50k\n",
      "Cần có 24 tiền 10k và 13 tiền 20k và 0 tiền 50k\n",
      "Cần có 25 tiền 10k và 0 tiền 20k và 5 tiền 50k\n",
      "Cần có 25 tiền 10k và 5 tiền 20k và 3 tiền 50k\n",
      "Cần có 25 tiền 10k và 10 tiền 20k và 1 tiền 50k\n",
      "Cần có 26 tiền 10k và 2 tiền 20k và 4 tiền 50k\n",
      "Cần có 26 tiền 10k và 7 tiền 20k và 2 tiền 50k\n",
      "Cần có 26 tiền 10k và 12 tiền 20k và 0 tiền 50k\n",
      "Cần có 27 tiền 10k và 4 tiền 20k và 3 tiền 50k\n",
      "Cần có 27 tiền 10k và 9 tiền 20k và 1 tiền 50k\n",
      "Cần có 28 tiền 10k và 1 tiền 20k và 4 tiền 50k\n",
      "Cần có 28 tiền 10k và 6 tiền 20k và 2 tiền 50k\n",
      "Cần có 28 tiền 10k và 11 tiền 20k và 0 tiền 50k\n",
      "Cần có 29 tiền 10k và 3 tiền 20k và 3 tiền 50k\n",
      "Cần có 29 tiền 10k và 8 tiền 20k và 1 tiền 50k\n",
      "Cần có 30 tiền 10k và 0 tiền 20k và 4 tiền 50k\n",
      "Cần có 30 tiền 10k và 5 tiền 20k và 2 tiền 50k\n",
      "Cần có 30 tiền 10k và 10 tiền 20k và 0 tiền 50k\n",
      "Cần có 31 tiền 10k và 2 tiền 20k và 3 tiền 50k\n",
      "Cần có 31 tiền 10k và 7 tiền 20k và 1 tiền 50k\n",
      "Cần có 32 tiền 10k và 4 tiền 20k và 2 tiền 50k\n",
      "Cần có 32 tiền 10k và 9 tiền 20k và 0 tiền 50k\n",
      "Cần có 33 tiền 10k và 1 tiền 20k và 3 tiền 50k\n",
      "Cần có 33 tiền 10k và 6 tiền 20k và 1 tiền 50k\n",
      "Cần có 34 tiền 10k và 3 tiền 20k và 2 tiền 50k\n",
      "Cần có 34 tiền 10k và 8 tiền 20k và 0 tiền 50k\n",
      "Cần có 35 tiền 10k và 0 tiền 20k và 3 tiền 50k\n",
      "Cần có 35 tiền 10k và 5 tiền 20k và 1 tiền 50k\n",
      "Cần có 36 tiền 10k và 2 tiền 20k và 2 tiền 50k\n",
      "Cần có 36 tiền 10k và 7 tiền 20k và 0 tiền 50k\n",
      "Cần có 37 tiền 10k và 4 tiền 20k và 1 tiền 50k\n",
      "Cần có 38 tiền 10k và 1 tiền 20k và 2 tiền 50k\n",
      "Cần có 38 tiền 10k và 6 tiền 20k và 0 tiền 50k\n",
      "Cần có 39 tiền 10k và 3 tiền 20k và 1 tiền 50k\n",
      "Cần có 40 tiền 10k và 0 tiền 20k và 2 tiền 50k\n",
      "Cần có 40 tiền 10k và 5 tiền 20k và 0 tiền 50k\n",
      "Cần có 41 tiền 10k và 2 tiền 20k và 1 tiền 50k\n",
      "Cần có 42 tiền 10k và 4 tiền 20k và 0 tiền 50k\n",
      "Cần có 43 tiền 10k và 1 tiền 20k và 1 tiền 50k\n",
      "Cần có 44 tiền 10k và 3 tiền 20k và 0 tiền 50k\n",
      "Cần có 45 tiền 10k và 0 tiền 20k và 1 tiền 50k\n",
      "Cần có 46 tiền 10k và 2 tiền 20k và 0 tiền 50k\n",
      "Cần có 48 tiền 10k và 1 tiền 20k và 0 tiền 50k\n",
      "Cần có 50 tiền 10k và 0 tiền 20k và 0 tiền 50k\n"
     ]
    }
   ],
   "source": [
    "\"\"\"Bài 8: Cần có tổng 500.000đ từ 3 mệnh giá tiền 10.000đ , 20.000đ, 50.000đ . Lập\n",
    "Phương trình để tìm tất cả các phương án có thể \"\"\"\n",
    "\n",
    "max_10k = 500000//10000\n",
    "max_20k = 500000//20000\n",
    "max_50k = 500000//50000\n",
    "for a in range(max_10k+1):\n",
    "    for b in range(max_20k+1):\n",
    "        for c in range(max_20k+1):\n",
    "            if a*10000+b*20000+c*50000 == 500000:\n",
    "                print(f'Cần có {a} tiền 10k và {b} tiền 20k và {c} tiền 50k')"
   ]
  },
  {
   "cell_type": "code",
   "execution_count": 55,
   "id": "1d25a0ab",
   "metadata": {},
   "outputs": [
    {
     "name": "stdout",
     "output_type": "stream",
     "text": [
      "Nhập vào dãy số = 12345\n",
      "5\n"
     ]
    }
   ],
   "source": [
    "'''Bai 9: Nhập vào số nguyên dương n,Đếm xem có bao nhiêu chữ số'''\n",
    "n = input(\"Nhập vào dãy số = \")\n",
    "s=0\n",
    "for i in range(len(n)):\n",
    "    s+=1\n",
    "print(s)\n",
    "    \n",
    "\n"
   ]
  },
  {
   "cell_type": "code",
   "execution_count": 13,
   "id": "dce51d09",
   "metadata": {},
   "outputs": [
    {
     "name": "stdout",
     "output_type": "stream",
     "text": [
      "10\n"
     ]
    }
   ],
   "source": [
    "'''Bài 10 :Nhập vào số nguyên dương n , tính tổng tất cả các số n'''\n",
    "\n",
    "n = int(input(\" Nhập n = \"))\n",
    "s=0\n",
    "for i in range(n+1):\n",
    "    s+=i\n",
    "print(s)"
   ]
  },
  {
   "cell_type": "code",
   "execution_count": 44,
   "id": "1893f056",
   "metadata": {},
   "outputs": [
    {
     "name": "stdout",
     "output_type": "stream",
     "text": [
      "Tổng dẫy số là 9\n"
     ]
    }
   ],
   "source": [
    "'''Bài 11 Viết chương trình để tính tổng dãy số 9 + 99 + 999 + ... với số phần tử nhập từ bàn phím.'''\n",
    "n = int(input(\"Nhập n = \"))\n",
    "t = 0\n",
    "s=0\n",
    "for i in range(n+1):\n",
    "    t=9*10**i +t\n",
    "    s+=t\n",
    "print(f'Tổng dẫy số là {s}')\n",
    "    "
   ]
  },
  {
   "cell_type": "code",
   "execution_count": 57,
   "id": "ee1ec238",
   "metadata": {},
   "outputs": [
    {
     "name": "stdout",
     "output_type": "stream",
     "text": [
      "496 là một số hoàn hảo\n"
     ]
    }
   ],
   "source": [
    "\"\"\"Bài 12 :nhập một số từ bàn phím, kiểm tra xem số đó có phải là số hoàn hảo hay không và đưa ra thông báo tương ứng. \n",
    "Số hoàn hảo là số có tổng các ước số dương (ngoại trừ chính số đó) bằng chính số đó\"\"\"\n",
    "a = int(input(\"Nhập một số nguyên dương: \"))\n",
    "s = 0\n",
    "for i in range(a,1,-1):\n",
    "    if a%i == 0:\n",
    "        s += a/i\n",
    "if s == a:\n",
    "    print(f'{a} là một số hoàn hảo')\n",
    "else:\n",
    "    print(f'{a} không phải số hoàn hảo')\n",
    "        \n",
    "\n",
    "\n"
   ]
  },
  {
   "cell_type": "code",
   "execution_count": null,
   "id": "d32f62f3",
   "metadata": {},
   "outputs": [],
   "source": [
    "\"\"\"Bài 13 : Viết chương trình để tìm các số Armstrong trong một dãy số đã cho. \n",
    "Số Armstrong là số bằng tổng lập phương các chữ số của số đó\"\"\"\n"
   ]
  },
  {
   "attachments": {
    "image.png": {
     "image/png": "[encoded data removed]"
    }
   },
   "cell_type": "markdown",
   "id": "51c428fd",
   "metadata": {},
   "source": [
    "![image.png](attachment:image.png)"
   ]
  },
  {
   "cell_type": "code",
   "execution_count": 85,
   "id": "10080762",
   "metadata": {},
   "outputs": [
    {
     "name": "stdout",
     "output_type": "stream",
     "text": [
      "218 không phải là một số Armstrong\n"
     ]
    }
   ],
   "source": [
    "a = input(\"Nhập vào một số: \")\n",
    "s = 0\n",
    "for i in a:\n",
    "    s += int(i)**3\n",
    "b = str(s)\n",
    "if b == a:\n",
    "    print(f'{a} là một số Armstrong')\n",
    "else:\n",
    "    print(f'{a} không phải là một số Armstrong')"
   ]
  },
  {
   "cell_type": "code",
   "execution_count": 127,
   "id": "30a48f26",
   "metadata": {},
   "outputs": [
    {
     "name": "stdout",
     "output_type": "stream",
     "text": [
      "6\n"
     ]
    }
   ],
   "source": [
    "\"\"\"Bài 14 :Viết chương trình bằng For để tìm ước số chung lớn nhất của hai số được nhập từ bàn phím\"\"\"\n",
    "a = int(input(\"Nhập sô A = \"))\n",
    "b = int(input(\"Nhập sô B = \"))\n",
    "for i in range(a+1):\n",
    "    if a>b: a = a-b\n",
    "    else: b = b-a\n",
    "print(f'USCLN là {a}')\n"
   ]
  },
  {
   "cell_type": "code",
   "execution_count": null,
   "id": "dccc565a",
   "metadata": {},
   "outputs": [],
   "source": [
    "\"\"\"Bài 15 :Viết chương trình bằng for để tìm bội số chung nhỏ nhất của hai \n",
    "số bất kỳ được nhập từ bàn phím và không sử dụng ước số chung lớn nhất (USCLN) của hai số đó\"\"\"\n"
   ]
  },
  {
   "cell_type": "code",
   "execution_count": null,
   "id": "909f91b3",
   "metadata": {},
   "outputs": [],
   "source": [
    "'''\n",
    "Bài 16 : vẽ từ hình tam giác đến lục giác chồng lên nhau bằng turtle . Cho biết mỗi một hình sau lớn hơn hình trước 10% .\n",
    "Yc: Sử dụng Vòng lặp While để check nếu người dùng nhập vào số hình <8 thì nhập lại, tới >= 8 thì chương trình bắt đầu \n",
    "thực hiện.\n",
    "'''\n",
    "import turtle as tl\n",
    "pen = tl.Turtle()\n",
    "while True:\n",
    "    n = int(input(\"Nhập số lượng hình: \"))\n",
    "    if n>=8:\n",
    "        break\n",
    "    else:\n",
    "        print(\"Hãy nhập số lượng hình lớn hơn hoặc bằng 8\")\n",
    "s = 50\n",
    "for x in range(4):\n",
    "    for j in range(n):\n",
    "        for i in range(3,7):\n",
    "            pen.circle(s,steps=i)\n",
    "        s+=s*0.1\n",
    "    pen.right(90)\n",
    "tl.done()"
   ]
  },
  {
   "attachments": {
    "image.png": {
     "image/png": "[encoded data removed]"
    }
   },
   "cell_type": "markdown",
   "id": "841d8ed9",
   "metadata": {},
   "source": [
    "![image.png](attachment:image.png)"
   ]
  }
 ],
 "metadata": {
  "kernelspec": {
   "display_name": "Python 3",
   "language": "python",
   "name": "python3"
  },
  "language_info": {
   "codemirror_mode": {
    "name": "ipython",
    "version": 3
   },
   "file_extension": ".py",
   "mimetype": "text/x-python",
   "name": "python",
   "nbconvert_exporter": "python",
   "pygments_lexer": "ipython3",
   "version": "3.10.4"
  },
  "vscode": {
   "interpreter": {
    "hash": "4e4c4528611270940a17f960982dd19717385b2491587e4df5cdee527a713aa6"
   }
  }
 },
 "nbformat": 4,
 "nbformat_minor": 5
}
