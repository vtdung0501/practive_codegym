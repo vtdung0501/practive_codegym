{
 "cells": [
  {
   "cell_type": "markdown",
   "id": "121b4c61",
   "metadata": {},
   "source": [
    "## Bài 1:\n"
   ]
  },
  {
   "cell_type": "code",
   "execution_count": null,
   "id": "5ed1a7e4",
   "metadata": {},
   "outputs": [],
   "source": [
    "\"\"\"cho một danh sách sản phẩm như sau:\n",
    "products = {\n",
    "'SMART WATCH': 550,\n",
    "'PLAYSTATION': 500,\n",
    "'PHONE': 1000,\n",
    "'LAPTOP': 600,\n",
    "'TABLET': 400\n",
    "}\n",
    "Viết chương trình hiển thị các sản phẩm có giá nhỏ hơn hoặc bằng với giá tiền mà người dùng nhập vào\"\"\"\n"
   ]
  },
  {
   "cell_type": "code",
   "execution_count": 59,
   "id": "60763c90",
   "metadata": {},
   "outputs": [
    {
     "name": "stdout",
     "output_type": "stream",
     "text": [
      "Nhập giá sản phẩm500\n",
      "PLAYSTATION\n",
      "TABLET\n"
     ]
    }
   ],
   "source": [
    "products = {\n",
    "'SMART WATCH': 550,\n",
    "'PLAYSTATION': 500,\n",
    "'PHONE': 1000,\n",
    "'LAPTOP': 600,\n",
    "'TABLET': 400\n",
    "}\n",
    "a= int(input(\"Nhập giá sản phẩm: \"))\n",
    "for i in products:\n",
    "    if products[i] <= a:\n",
    "        print(i)\n",
    "        \n"
   ]
  },
  {
   "cell_type": "markdown",
   "id": "cdbca75e",
   "metadata": {},
   "source": [
    "## Bài 2: Size of Set"
   ]
  },
  {
   "cell_type": "code",
   "execution_count": 3,
   "id": "dc518d07",
   "metadata": {},
   "outputs": [
    {
     "data": {
      "text/plain": [
       "'hãy viết một chương trình tính toán độ dài của một set '"
      ]
     },
     "execution_count": 3,
     "metadata": {},
     "output_type": "execute_result"
    }
   ],
   "source": [
    "\"\"\"hãy viết một chương trình tính toán độ dài của một set \"\"\""
   ]
  },
  {
   "cell_type": "code",
   "execution_count": 1,
   "id": "0258e003",
   "metadata": {},
   "outputs": [],
   "source": [
    "# input\n",
    "set1 = ('A',1,'B',2,'C',3)\n",
    "set2 = ('Geek1','Raju','Geek2','Nikhil','Geek3','Deepanshu')\n",
    "set3 = ((1,'Lion'),(2,'Tiger'),(3,'Fox'))"
   ]
  },
  {
   "cell_type": "code",
   "execution_count": null,
   "id": "923b10c7",
   "metadata": {},
   "outputs": [],
   "source": [
    "# # Output\n",
    "# size of set1: 6\n",
    "# size of set2 : 6\n",
    "# size of set1: 3"
   ]
  },
  {
   "cell_type": "code",
   "execution_count": 18,
   "id": "8bfc78a1",
   "metadata": {},
   "outputs": [
    {
     "name": "stdout",
     "output_type": "stream",
     "text": [
      "size of set1: 6\n",
      "size of set1: 6\n"
     ]
    }
   ],
   "source": [
    "# Your code \n",
    "set1 = ('A',1,'B',2,'C',3)\n",
    "set2 = ('Geek1','Raju','Geek2','Nikhil','Geek3','Deepanshu')\n",
    "set3 = ((1,'Lion'),(2,'Tiger'),(3,'Fox'))\n",
    "# code below this line\n",
    "print(f'size of set1: {len(set1)}')\n",
    "print(f'size of set2: {len(set2)}')\n",
    "print(f'size of set2: {len(set3)}')\n",
    "# code above this line "
   ]
  },
  {
   "cell_type": "markdown",
   "id": "deceaad4",
   "metadata": {},
   "source": [
    "### Bài 3 : Maximum and minimum of set"
   ]
  },
  {
   "cell_type": "code",
   "execution_count": 5,
   "id": "5fbb141f",
   "metadata": {},
   "outputs": [],
   "source": [
    "# Hãy tìm giá trị lớn nhất và giá trị nhỏ nhất trong set \n",
    "# input \n",
    "set1 = (3,5,6,7,35,7,4,323,4,57,34)\n",
    "# output :\n",
    "'''\n",
    "max is 323\n",
    "min is 3\n",
    "'''"
   ]
  },
  {
   "cell_type": "code",
   "execution_count": 19,
   "id": "e159a11c",
   "metadata": {},
   "outputs": [
    {
     "name": "stdout",
     "output_type": "stream",
     "text": [
      "max is 323\n",
      "min is 3\n"
     ]
    }
   ],
   "source": [
    "# Your code \n",
    "set1 = (3,5,6,7,35,7,4,323,4,57,34)\n",
    "# code below this line\n",
    "print(f'max is {max(set1)}')\n",
    "print(f'min is {min(set1)}')\n",
    "\n",
    "# code above this line "
   ]
  },
  {
   "cell_type": "markdown",
   "id": "8d5ed45f",
   "metadata": {},
   "source": [
    "### Bài 4 : common set "
   ]
  },
  {
   "cell_type": "code",
   "execution_count": 72,
   "id": "d64ac846",
   "metadata": {},
   "outputs": [
    {
     "data": {
      "text/plain": [
       "True"
      ]
     },
     "execution_count": 72,
     "metadata": {},
     "output_type": "execute_result"
    }
   ],
   "source": [
    "# Cho 2 biến set1 và set2 . Hãy kiểm tra xem set1 và set2 có it nhất một giá trị giống nhau hay không . Nếu có thì hãy in ra  True , nếu không có thì in ra False\n",
    "# input \n",
    "set1 = (1,2,3,4,5,6)\n",
    "set2 = (5,6,7,8,9,10)\n",
    "# output\n",
    "True"
   ]
  },
  {
   "cell_type": "code",
   "execution_count": 77,
   "id": "42ebe8fa",
   "metadata": {},
   "outputs": [
    {
     "name": "stdout",
     "output_type": "stream",
     "text": [
      "True\n"
     ]
    }
   ],
   "source": [
    "# Your code \n",
    "set1 = (1,2,3,4,5,6)\n",
    "set2 = (5,6,7,8,9,10)\n",
    "\n",
    "# code below this line \n",
    "check = False\n",
    "for i in set1:\n",
    "    if i in set2:\n",
    "        check =True\n",
    "        break\n",
    "print(check)\n",
    "# code above this line "
   ]
  },
  {
   "cell_type": "markdown",
   "id": "5d6c232b",
   "metadata": {},
   "source": [
    "### Bài 5  common set 2"
   ]
  },
  {
   "cell_type": "code",
   "execution_count": 10,
   "id": "20e7fe33",
   "metadata": {},
   "outputs": [
    {
     "data": {
      "text/plain": [
       "(4, 677)"
      ]
     },
     "execution_count": 10,
     "metadata": {},
     "output_type": "execute_result"
    }
   ],
   "source": [
    "# cho 3 set khác nhau . Hãy in ra một set chứa các phần tử chung của 3 set đã cho \n",
    "# input \n",
    "st1 = (1,4,5,6,677,889,445,2234)\n",
    "st2 = (9,2,3,4,55,677,122,678,112)\n",
    "st3 = (3,4,15,20,677,30,40,80)\n",
    "#output\n",
    "(4,677)"
   ]
  },
  {
   "cell_type": "code",
   "execution_count": 11,
   "id": "38ff4677",
   "metadata": {},
   "outputs": [],
   "source": [
    "# your code \n",
    "st1 = (1,4,5,6,677,889,445,2234)\n",
    "st2 = (9,2,3,4,55,677,122,678,112)\n",
    "st3 = (3,4,15,20,677,30,40,80)\n",
    "# code below this line\n",
    "\n",
    "# code above this line "
   ]
  },
  {
   "cell_type": "markdown",
   "id": "d00feecb",
   "metadata": {},
   "source": [
    "### Bài 6 : List to dict "
   ]
  },
  {
   "cell_type": "code",
   "execution_count": 12,
   "id": "b0462e65",
   "metadata": {},
   "outputs": [],
   "source": [
    "# cho 2 list có cùng số phần tử với nhau . Hãy tao ta một dict từ 2 list theo format dưới đây:\n",
    "# input\n",
    "keys = [\"Ten\",\"Twenty\",\"Thirty\"]\n",
    "values = [10,20,30]"
   ]
  },
  {
   "cell_type": "code",
   "execution_count": 15,
   "id": "c48f31c6",
   "metadata": {},
   "outputs": [
    {
     "data": {
      "text/plain": [
       "{'Ten': 10, 'Twenty': 20, 'Thirty': 30}"
      ]
     },
     "execution_count": 15,
     "metadata": {},
     "output_type": "execute_result"
    }
   ],
   "source": [
    "# output\n",
    "{\"Ten\":10,\"Twenty\": 20 ,\"Thirty\": 30}"
   ]
  },
  {
   "cell_type": "code",
   "execution_count": 94,
   "id": "b7578ddf",
   "metadata": {},
   "outputs": [
    {
     "name": "stdout",
     "output_type": "stream",
     "text": [
      "{'Ten': 10, 'Twenty': 20, 'Thirty': 30}\n"
     ]
    }
   ],
   "source": [
    "# your code \n",
    "keys = [\"Ten\",\"Twenty\",\"Thirty\"]\n",
    "values = [10,20,30]\n",
    "# code below this line\n",
    "dict = {}\n",
    "for i in range(len(keys)):\n",
    "    dict[keys[i]] = values[i]\n",
    "print(dict)"
   ]
  },
  {
   "cell_type": "markdown",
   "id": "71cba897",
   "metadata": {},
   "source": [
    "###  Bài 7 Merge dictionary"
   ]
  },
  {
   "cell_type": "code",
   "execution_count": 17,
   "id": "ee61d923",
   "metadata": {},
   "outputs": [
    {
     "data": {
      "text/plain": [
       "{'ten': 10, 'twenty': 20, 'Thirty': 30, 'Fourty': 40, 'Fifty': 50}"
      ]
     },
     "execution_count": 17,
     "metadata": {},
     "output_type": "execute_result"
    }
   ],
   "source": [
    "# Hãy gộp 2 dictionary thành một \n",
    "# input\n",
    "dict1 = {'ten':10,'twenty':20,'Thirty':30}\n",
    "dict2 = {'Thirty':30,'Fourty':40,\"Fifty\":50}\n",
    "# ouput\n",
    "{'ten':10,'twenty':20,'Thirty':30,'Fourty':40,\"Fifty\":50}"
   ]
  },
  {
   "cell_type": "code",
   "execution_count": 95,
   "id": "1eb4be71",
   "metadata": {},
   "outputs": [
    {
     "data": {
      "text/plain": [
       "{'ten': 10, 'twenty': 20, 'Thirty': 30, 'Fourty': 40, 'Fifty': 50}"
      ]
     },
     "execution_count": 95,
     "metadata": {},
     "output_type": "execute_result"
    }
   ],
   "source": [
    "# your code \n",
    "dict1 = {'ten':10,'twenty':20,'Thirty':30}\n",
    "dict2 = {'Thirty':30,'Fourty':40,\"Fifty\":50}\n",
    "# code below this line\n",
    "dict1.update(dict2)\n",
    "dict1\n",
    "# code above this line"
   ]
  },
  {
   "cell_type": "markdown",
   "id": "09f12cdb",
   "metadata": {},
   "source": [
    "### Bài 8 where is the value?"
   ]
  },
  {
   "cell_type": "code",
   "execution_count": 22,
   "id": "917011de",
   "metadata": {},
   "outputs": [
    {
     "data": {
      "text/plain": [
       "80"
      ]
     },
     "execution_count": 22,
     "metadata": {},
     "output_type": "execute_result"
    }
   ],
   "source": [
    "# Hãy in ra giá trị của \"History\" trong dictionary dưới đây \n",
    "sampleDict = {\n",
    "    \"class\":{\n",
    "        \"student\":{\n",
    "            \"name\": \"Mike\",\n",
    "            \"marks\":{\n",
    "                \"physics\":70,\n",
    "                \"history\": 80\n",
    "            }\n",
    "        }\n",
    "    }\n",
    "}\n",
    "# Output\n",
    "80"
   ]
  },
  {
   "cell_type": "code",
   "execution_count": 23,
   "id": "bae3c06b",
   "metadata": {},
   "outputs": [],
   "source": [
    "# Your code\n",
    "sampleDict = {\n",
    "    \"class\":{\n",
    "        \"student\":{\n",
    "            \"name\": \"Mike\",\n",
    "            \"marks\":{\n",
    "                \"physics\":70,\n",
    "                \"history\": 80\n",
    "            }\n",
    "        }\n",
    "    }\n",
    "}\n",
    "# code below this line \n",
    "\n",
    "# code above this line "
   ]
  },
  {
   "cell_type": "markdown",
   "id": "369889b9",
   "metadata": {},
   "source": [
    "### Bài 9 Detele set of keys from a dictionary?"
   ]
  },
  {
   "cell_type": "code",
   "execution_count": 100,
   "id": "3f695fc7",
   "metadata": {},
   "outputs": [],
   "source": [
    "# Hãy xóa các key có trong set dưới đây khỏi dictionary \n",
    "# input\n",
    "Dict = {\n",
    "    \"name\":\"Alice\",\n",
    "    \"age\": 25,\n",
    "    \"salary\": 8000,\n",
    "    \"city\": \"London\"\n",
    "}"
   ]
  },
  {
   "cell_type": "code",
   "execution_count": 25,
   "id": "2817c7c7",
   "metadata": {},
   "outputs": [
    {
     "data": {
      "text/plain": [
       "{'city': 'London', 'age': 25}"
      ]
     },
     "execution_count": 25,
     "metadata": {},
     "output_type": "execute_result"
    }
   ],
   "source": [
    "# ouput:\n",
    "{\"city\":\"London\",\"age\":25}"
   ]
  },
  {
   "cell_type": "code",
   "execution_count": 101,
   "id": "b072dd78",
   "metadata": {},
   "outputs": [
    {
     "data": {
      "text/plain": [
       "{'age': 25, 'city': 'London'}"
      ]
     },
     "execution_count": 101,
     "metadata": {},
     "output_type": "execute_result"
    }
   ],
   "source": [
    "# Your code \n",
    "dict1 = {\n",
    "    \"name\":\"Alice\",\n",
    "    \"age\": 25,\n",
    "    \"salary\": 8000,\n",
    "    \"city\": \"London\"\n",
    "}\n",
    "KeysToRemove = {\"name\",'salary'}\n",
    "# code below this line\n",
    "for i in KeysToRemove:\n",
    "    dict1.pop(i)\n",
    "dict1\n",
    "# code above this line"
   ]
  },
  {
   "cell_type": "markdown",
   "id": "b01fd424",
   "metadata": {},
   "source": [
    "### Bài 10 check if a value 200 exists in a dictionary"
   ]
  },
  {
   "cell_type": "code",
   "execution_count": 27,
   "id": "76943ac9",
   "metadata": {},
   "outputs": [
    {
     "data": {
      "text/plain": [
       "True"
      ]
     },
     "execution_count": 27,
     "metadata": {},
     "output_type": "execute_result"
    }
   ],
   "source": [
    "# hãy kiểm tra xem số 200 có phải là value của dictionary dưới đây hay không.\n",
    "# input \n",
    "sampleDict = {\"a\":100,\"b\":200,\"c\":300}\n",
    "# Output\n",
    "True"
   ]
  },
  {
   "cell_type": "code",
   "execution_count": 102,
   "id": "a9844b58",
   "metadata": {},
   "outputs": [
    {
     "name": "stdout",
     "output_type": "stream",
     "text": [
      "True\n"
     ]
    }
   ],
   "source": [
    "# Your code \n",
    "sampleDict = {\"a\":100,\"b\":200,\"c\":300}\n",
    "# code below this line\n",
    "check = False\n",
    "for i in sampleDict.values():\n",
    "    if i == 200:\n",
    "        check = True\n",
    "        break\n",
    "print(check)\n",
    "# code above this line "
   ]
  },
  {
   "cell_type": "markdown",
   "id": "6e2f5ead",
   "metadata": {},
   "source": [
    "### Bài 11 rename key"
   ]
  },
  {
   "cell_type": "code",
   "execution_count": null,
   "id": "2747c6db",
   "metadata": {},
   "outputs": [],
   "source": [
    "# Hãy thay thế key city thành location trong dictionary dưới đây.\n",
    "# Input\n",
    "dict1= {\n",
    "    \"name\":\"Alice\",\n",
    "    \"age\": 25,\n",
    "    \"salary\": 8000,\n",
    "    \"city\": \"London\"\n",
    "}\n",
    "#ouput\n",
    "dict1= {\n",
    "    \"name\":\"Alice\",\n",
    "    \"age\": 25,\n",
    "    \"salary\": 8000,\n",
    "    \"location\": \"London\"\n",
    "}"
   ]
  },
  {
   "cell_type": "code",
   "execution_count": 108,
   "id": "f1227a5e",
   "metadata": {},
   "outputs": [
    {
     "name": "stdout",
     "output_type": "stream",
     "text": [
      "{'name': 'Alice', 'age': 25, 'salary': 8000, 'location': 'London'}\n"
     ]
    }
   ],
   "source": [
    "# Your code \n",
    "dict1= {\n",
    "    \"name\":\"Alice\",\n",
    "    \"age\": 25,\n",
    "    \"salary\": 8000,\n",
    "    \"city\": \"London\"\n",
    "}\n",
    "# code below this line\n",
    "#dict1['location'] = dict1.pop('city')\n",
    "\n",
    "dict1['location'] = dict1['city']\n",
    "dict1\n",
    "del dict1['city']\n",
    "print(dict1)\n",
    "# code above this line"
   ]
  },
  {
   "cell_type": "markdown",
   "id": "b5c81bfc",
   "metadata": {},
   "source": [
    "### Bài 12  Key of minimum value"
   ]
  },
  {
   "cell_type": "code",
   "execution_count": 32,
   "id": "1fc87c0a",
   "metadata": {},
   "outputs": [],
   "source": [
    "# Hãy in ra key chứa value nhỏ nhất trong dictionary dưới đây\n",
    "# Input\n",
    "sampleDict = {\n",
    "    'physics':80,\n",
    "    'Math': 65,\n",
    "    \"History\": 75\n",
    "}\n",
    "# Output\n",
    "Math"
   ]
  },
  {
   "cell_type": "code",
   "execution_count": 109,
   "id": "139c1bc9",
   "metadata": {},
   "outputs": [
    {
     "name": "stdout",
     "output_type": "stream",
     "text": [
      "Math\n"
     ]
    }
   ],
   "source": [
    "# Your code \n",
    "sampleDict = {\n",
    "    'physics':80,\n",
    "    'Math': 65,\n",
    "    \"History\": 75\n",
    "}\n",
    "# code below this line\n",
    "min_score = min(sampleDict.values())\n",
    "for i, k in sampleDict.items():\n",
    "    if k == min_score:\n",
    "        print(i)\n",
    "        break\n",
    "\n",
    "# code above this line"
   ]
  },
  {
   "cell_type": "markdown",
   "id": "2e4716b7",
   "metadata": {},
   "source": [
    "### Bài 13 New salary"
   ]
  },
  {
   "cell_type": "code",
   "execution_count": 34,
   "id": "4591a4c0",
   "metadata": {},
   "outputs": [],
   "source": [
    "# Hãy tăng lương (salary) cho Brad từ 6500 lên 8500 trong dictionary dưới đây.\n",
    "# input \n",
    "sampleDict = {\n",
    "    \"emp1\":{\"name\":\"john\",\"salary\":7800},\n",
    "    \"emp2\":{\"name\":\"Emna\",\"salary\":8000},\n",
    "    \"emp3\":{\"name\":\"Brad\",\"salary\":6500}\n",
    "}\n",
    "# output\n",
    "sampleDict = {\n",
    "    \"emp1\":{\"name\":\"john\",\"salary\":7800},\n",
    "    \"emp2\":{\"name\":\"Emna\",\"salary\":8000},\n",
    "    \"emp3\":{\"name\":\"Brad\",\"salary\":8500}\n",
    "}"
   ]
  },
  {
   "cell_type": "code",
   "execution_count": 113,
   "id": "3486dc54",
   "metadata": {},
   "outputs": [
    {
     "name": "stdout",
     "output_type": "stream",
     "text": [
      "{'emp1': {'name': 'john', 'salary': 7800}, 'emp2': {'name': 'Emna', 'salary': 8000}, 'emp3': {'name': 'Brad', 'salary': 8500}}\n"
     ]
    }
   ],
   "source": [
    "# Your code \n",
    "sampleDict = {\n",
    "    \"emp1\":{\"name\":\"john\",\"salary\":7800},\n",
    "    \"emp2\":{\"name\":\"Emna\",\"salary\":8000},\n",
    "    \"emp3\":{\"name\":\"Brad\",\"salary\":6500}\n",
    "}\n",
    "# code below this line \n",
    "for nv in sampleDict.values():\n",
    "    if nv[\"name\"] ==\"Brad\":\n",
    "        nv[\"salary\"] = 8500\n",
    "print(sampleDict)\n",
    "# code above this line"
   ]
  },
  {
   "cell_type": "code",
   "execution_count": null,
   "id": "4a188d14",
   "metadata": {},
   "outputs": [],
   "source": []
  }
 ],
 "metadata": {
  "kernelspec": {
   "display_name": "Python 3 (ipykernel)",
   "language": "python",
   "name": "python3"
  },
  "language_info": {
   "codemirror_mode": {
    "name": "ipython",
    "version": 3
   },
   "file_extension": ".py",
   "mimetype": "text/x-python",
   "name": "python",
   "nbconvert_exporter": "python",
   "pygments_lexer": "ipython3",
   "version": "3.9.12"
  }
 },
 "nbformat": 4,
 "nbformat_minor": 5
}
